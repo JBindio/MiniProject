{
 "cells": [
  {
   "cell_type": "code",
   "execution_count": 2,
   "id": "b2451d12-e581-4967-a586-873807e2f176",
   "metadata": {},
   "outputs": [],
   "source": [
    "import pandas as pd\n",
    "from bs4 import BeautifulSoup as bs\n",
    "import requests"
   ]
  },
  {
   "cell_type": "code",
   "execution_count": 3,
   "id": "0fe06048-7184-4fca-8d1a-f2f5d53a765b",
   "metadata": {},
   "outputs": [],
   "source": [
    "from selenium import webdriver"
   ]
  },
  {
   "cell_type": "code",
   "execution_count": 4,
   "id": "dd1b9677-44cb-4c07-ba29-30840f2333cd",
   "metadata": {},
   "outputs": [
    {
     "name": "stderr",
     "output_type": "stream",
     "text": [
      "C:\\Users\\admin\\AppData\\Local\\Temp\\ipykernel_8408\\2421840669.py:1: DeprecationWarning: executable_path has been deprecated, please pass in a Service object\n",
      "  driver = webdriver.Chrome('C:/ChromeDriver_exe/chromedriver_102.exe')\n"
     ]
    }
   ],
   "source": [
    "driver = webdriver.Chrome('C:/ChromeDriver_exe/chromedriver_102.exe')"
   ]
  },
  {
   "cell_type": "code",
   "execution_count": 5,
   "id": "aafde0a0-33f3-47ac-b5f6-27af3be6aab9",
   "metadata": {},
   "outputs": [],
   "source": [
    "url = 'https://ko.tradingeconomics.com/country-list/minimum-wages?continent=g20'\n",
    "driver.get(url)\n",
    "html = driver.page_source"
   ]
  },
  {
   "cell_type": "code",
   "execution_count": 6,
   "id": "ad15facc-c4c2-423b-986f-944580479660",
   "metadata": {},
   "outputs": [],
   "source": [
    "soup = bs(html, 'html.parser')"
   ]
  },
  {
   "cell_type": "code",
   "execution_count": 7,
   "id": "8f46b125-859d-4c92-bc0c-a30a2e3253e2",
   "metadata": {},
   "outputs": [
    {
     "data": {
      "text/plain": [
       "[<th style=\"cursor: pointer\">국가</th>,\n",
       " <th data-heatmap=\"0\" data-heatmap-limit=\"19\" data-sortable=\"true\" style=\"cursor: pointer\">마지막 </th>,\n",
       " <th data-sortable=\"true\" style=\"cursor: pointer\">이전 </th>,\n",
       " <th class=\"hidden-xs\" style=\"cursor: pointer\">참고</th>,\n",
       " <th class=\"hidden-sm hidden-xs\" data-sortable=\"false\"> 단위</th>]"
      ]
     },
     "execution_count": 7,
     "metadata": {},
     "output_type": "execute_result"
    }
   ],
   "source": [
    "th = soup.select('div.table-responsive tr th')\n",
    "th"
   ]
  },
  {
   "cell_type": "code",
   "execution_count": 8,
   "id": "6eb4c33a-fe49-4750-848f-ee8f7b134d3f",
   "metadata": {},
   "outputs": [
    {
     "data": {
      "text/plain": [
       "['국가', '마지막 ', '이전 ', '참고', ' 단위']"
      ]
     },
     "execution_count": 8,
     "metadata": {},
     "output_type": "execute_result"
    }
   ],
   "source": [
    "columus = []\n",
    "for i in range(len(th)) :\n",
    "    columus.append(th[i].text)\n",
    "columus"
   ]
  },
  {
   "cell_type": "code",
   "execution_count": 105,
   "id": "8d010020-03b7-473b-a833-3aeadd6e71b4",
   "metadata": {},
   "outputs": [
    {
     "data": {
      "text/plain": [
       "'\\n\\n\\n                                        아르헨티나\\n                                    \\n47850\\n45450\\n2022-08\\nARS / 월\\n'"
      ]
     },
     "execution_count": 105,
     "metadata": {},
     "output_type": "execute_result"
    }
   ],
   "source": [
    "td = soup.select('div.table-responsive tbody tr td')\n",
    "tr = soup.select('div.table-responsive tbody tr')\n",
    "a = soup.select('div.table-responsive tbody tr a')\n",
    "a[1].text.strip()\n",
    "tr[0].text"
   ]
  },
  {
   "cell_type": "code",
   "execution_count": 98,
   "id": "ff1df7ce-6d88-469c-b031-23bd57f6c8cd",
   "metadata": {},
   "outputs": [
    {
     "data": {
      "text/plain": [
       "['아르헨티나,,47850,45450,2022-08,ARS/월',\n",
       " '호주,,812,773,2022-07,AUD/주',\n",
       " '브라질,,1212,1212,2022-07,BRL/월',\n",
       " '캐나다,,15.5,15,2022-10,CAD/시간',\n",
       " '중국,,2590,2590,2022-01,CNY/월',\n",
       " '프랑스,,1646,1603,2022-09,EUR/월',\n",
       " '독일,,12,10.45,2022-10,EUR/시간',\n",
       " '인도,,178,178,2022-12,INR/일',\n",
       " '인도네시아,,4.64,4.42,2022-01,IDR-백만/월',\n",
       " '일본,,930,902,2021-10,JPY/시간',\n",
       " '멕시코,,173,173,2022-06,MXN/일',\n",
       " '네덜란드,,1756,1725,2022-07,EUR/월',\n",
       " '러시아,,15279,13890,2022-05,RUB/월',\n",
       " '남아프리카공화국,,23.19,21.69,2022-03,ZAR/시간',\n",
       " '대한민국,,9160,8720,2022-12,원/시간',\n",
       " '스페인,,1126,1108,2022-03,EUR/월',\n",
       " '터키,,5008,5008,2022-12,/월TRY',\n",
       " '연합왕국,,9.5,8.91,2022-04,GBP/시간',\n",
       " '미국,,7.25,7.25,2022-12,USD/시간']"
      ]
     },
     "execution_count": 98,
     "metadata": {},
     "output_type": "execute_result"
    }
   ],
   "source": [
    "df = pd.DataFrame(columns= columus)\n",
    "text_list =[]\n",
    "for i in range(len(tr)):\n",
    "    text_list.append(tr[i].text.strip().replace('\\n', ',').replace(' ',''))\n",
    "text_list"
   ]
  },
  {
   "cell_type": "code",
   "execution_count": 97,
   "id": "c278c694-1ab0-427e-a0b3-318920fe319c",
   "metadata": {},
   "outputs": [],
   "source": [
    "a = [1,2,3,4,5]\n",
    "da"
   ]
  },
  {
   "cell_type": "code",
   "execution_count": 57,
   "id": "eb756820-a837-4a47-ad85-2cf9a14ba7d8",
   "metadata": {},
   "outputs": [
    {
     "data": {
      "text/plain": [
       "['\\n\\n\\n                                        아르헨티나\\n                                    \\n47850\\n45450\\n2022-08\\nARS / 월\\n',\n",
       " '\\n\\n\\n                                        호주\\n                                    \\n812\\n773\\n2022-07\\nAUD / 주\\n',\n",
       " '\\n\\n\\n                                        브라질\\n                                    \\n1212\\n1212\\n2022-07\\nBRL / 월\\n',\n",
       " '\\n\\n\\n                                        캐나다\\n                                    \\n15.5\\n15\\n2022-10\\nCAD / 시간\\n',\n",
       " '\\n\\n\\n                                        중국\\n                                    \\n2590\\n2590\\n2022-01\\nCNY / 월\\n',\n",
       " '\\n\\n\\n                                        프랑스\\n                                    \\n1646\\n1603\\n2022-09\\nEUR / 월\\n',\n",
       " '\\n\\n\\n                                        독일\\n                                    \\n12\\n10.45\\n2022-10\\nEUR / 시간\\n',\n",
       " '\\n\\n\\n                                        인도\\n                                    \\n178\\n178\\n2022-12\\nINR / 일\\n',\n",
       " '\\n\\n\\n                                        인도네시아\\n                                    \\n4.64\\n4.42\\n2022-01\\nIDR - 백만 / 월\\n',\n",
       " '\\n\\n\\n                                        일본\\n                                    \\n930\\n902\\n2021-10\\nJPY / 시간\\n',\n",
       " '\\n\\n\\n                                        멕시코\\n                                    \\n173\\n173\\n2022-06\\nMXN / 일\\n',\n",
       " '\\n\\n\\n                                        네덜란드\\n                                    \\n1756\\n1725\\n2022-07\\nEUR / 월\\n',\n",
       " '\\n\\n\\n                                        러시아\\n                                    \\n15279\\n13890\\n2022-05\\nRUB / 월\\n',\n",
       " '\\n\\n\\n                                        남아프리카 공화국\\n                                    \\n23.19\\n21.69\\n2022-03\\nZAR/시간\\n',\n",
       " '\\n\\n\\n                                        대한민국\\n                                    \\n9160\\n8720\\n2022-12\\n원 / 시간\\n',\n",
       " '\\n\\n\\n                                        스페인\\n                                    \\n1126\\n1108\\n2022-03\\nEUR / 월\\n',\n",
       " '\\n\\n\\n                                        터키\\n                                    \\n5008\\n5008\\n2022-12\\n/ 월 TRY\\n',\n",
       " '\\n\\n\\n                                        연합 왕국\\n                                    \\n9.5\\n8.91\\n2022-04\\nGBP / 시간\\n',\n",
       " '\\n\\n\\n                                        미국\\n                                    \\n7.25\\n7.25\\n2022-12\\nUSD / 시간\\n']"
      ]
     },
     "execution_count": 57,
     "metadata": {},
     "output_type": "execute_result"
    }
   ],
   "source": [
    "row = []\n",
    "for i in range(len(td)) :\n",
    "    row.append(td[i].text)\n",
    "row"
   ]
  }
 ],
 "metadata": {
  "kernelspec": {
   "display_name": "Python 3 (ipykernel)",
   "language": "python",
   "name": "python3"
  },
  "language_info": {
   "codemirror_mode": {
    "name": "ipython",
    "version": 3
   },
   "file_extension": ".py",
   "mimetype": "text/x-python",
   "name": "python",
   "nbconvert_exporter": "python",
   "pygments_lexer": "ipython3",
   "version": "3.9.12"
  }
 },
 "nbformat": 4,
 "nbformat_minor": 5
}
