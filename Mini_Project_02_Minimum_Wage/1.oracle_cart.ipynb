{
 "cells": [
  {
   "cell_type": "markdown",
   "id": "ab514e2f-db05-4778-a853-9afdacdd9179",
   "metadata": {
    "tags": []
   },
   "source": [
    "### 오라클 DB연동"
   ]
  },
  {
   "cell_type": "code",
   "execution_count": 1,
   "id": "4da7b7ac-fbb1-4c88-91f0-15e4300e7614",
   "metadata": {},
   "outputs": [],
   "source": [
    "# conda install -c conda-forge cx_Oracle : 오라클 연동 모듈 설치"
   ]
  },
  {
   "cell_type": "code",
   "execution_count": 2,
   "id": "24239ddc-1925-481b-8ec9-b5a8cc66c610",
   "metadata": {},
   "outputs": [],
   "source": [
    "import pandas as pd\n",
    "import numpy as np\n",
    "import matplotlib.pyplot as plt\n",
    "import matplotlib\n",
    "from matplotlib import font_manager, rc\n",
    "import seaborn as sns\n",
    "import platform"
   ]
  },
  {
   "cell_type": "code",
   "execution_count": 3,
   "id": "50d989c5-0aba-4561-b48c-1ac34109c85b",
   "metadata": {},
   "outputs": [],
   "source": [
    "# seaborn 설정 리셋\n",
    "sns.reset_defaults()\n",
    "\n",
    "# 폰트설정\n",
    "if platform.system() == 'Windows' :\n",
    "    path = 'c:/Windows/Fonts/malgun.ttf'\n",
    "    font_name = font_manager.FontProperties(fname=path).get_name()\n",
    "    rc('font', family=font_name)\n",
    "elif platform.system() == 'Darwin':\n",
    "    rc('font', family='AppleGothic')\n",
    "else :\n",
    "    print('Check your OS System')\n",
    "    \n",
    "# 그래프에 마이너스 표시\n",
    "matplotlib.rcParams['axes.unicode_minus'] = False"
   ]
  },
  {
   "cell_type": "code",
   "execution_count": 9,
   "id": "9dcdf3a2-e3f2-43e6-a82e-f621f2efc451",
   "metadata": {},
   "outputs": [],
   "source": [
    "import cx_Oracle as ora\n",
    "import pandas as pd"
   ]
  },
  {
   "cell_type": "code",
   "execution_count": 10,
   "id": "68b630fd-0535-4bb5-92f6-54823eb02c25",
   "metadata": {},
   "outputs": [
    {
     "data": {
      "text/plain": [
       "'(DESCRIPTION=(ADDRESS=(PROTOCOL=TCP)(HOST=localhost)(PORT=1521))(CONNECT_DATA=(SERVICE_NAME=orcl)))'"
      ]
     },
     "execution_count": 10,
     "metadata": {},
     "output_type": "execute_result"
    }
   ],
   "source": [
    "# 데이터소스 네임 객체생성(접속주소, 포트번호, 서비스명)\n",
    "dsn = ora.makedsn('localhost', 1521, service_name = 'orcl')\n",
    "dsn"
   ]
  },
  {
   "cell_type": "code",
   "execution_count": 11,
   "id": "2a3a674c-177d-4748-94dd-c30098a5dee7",
   "metadata": {},
   "outputs": [
    {
     "data": {
      "text/plain": [
       "<cx_Oracle.Connection to busan_06@(DESCRIPTION=(ADDRESS=(PROTOCOL=TCP)(HOST=localhost)(PORT=1521))(CONNECT_DATA=(SERVICE_NAME=orcl)))>"
      ]
     },
     "execution_count": 11,
     "metadata": {},
     "output_type": "execute_result"
    }
   ],
   "source": [
    "# DB연결 객체 생성\n",
    "conn = ora.connect(user = 'busan_06', password = 'dbdb', dsn = dsn, encoding = 'utf-8')\n",
    "conn"
   ]
  },
  {
   "cell_type": "code",
   "execution_count": 12,
   "id": "946c0ced-e389-4e81-ae9f-78654e9d2179",
   "metadata": {},
   "outputs": [
    {
     "data": {
      "text/plain": [
       "<cx_Oracle.Cursor on <cx_Oracle.Connection to busan_06@(DESCRIPTION=(ADDRESS=(PROTOCOL=TCP)(HOST=localhost)(PORT=1521))(CONNECT_DATA=(SERVICE_NAME=orcl)))>>"
      ]
     },
     "execution_count": 12,
     "metadata": {},
     "output_type": "execute_result"
    }
   ],
   "source": [
    "# 커서 생성\n",
    "cur = conn.cursor()\n",
    "cur"
   ]
  },
  {
   "cell_type": "code",
   "execution_count": 13,
   "id": "e870566f-3afb-4d00-85b7-88e671cdc6c0",
   "metadata": {},
   "outputs": [
    {
     "data": {
      "text/plain": [
       "'\\nSELECT Q1\\n  FROM survey_employer '"
      ]
     },
     "execution_count": 13,
     "metadata": {},
     "output_type": "execute_result"
    }
   ],
   "source": [
    "sql = \"\"\"\n",
    "SELECT Q1\n",
    "  FROM survey_employer \"\"\"\n",
    "\n",
    "sql"
   ]
  },
  {
   "cell_type": "code",
   "execution_count": 14,
   "id": "f5724a08-3d87-4406-987c-2fe48f9fcd01",
   "metadata": {},
   "outputs": [
    {
     "data": {
      "text/plain": [
       "<cx_Oracle.Cursor on <cx_Oracle.Connection to busan_06@(DESCRIPTION=(ADDRESS=(PROTOCOL=TCP)(HOST=localhost)(PORT=1521))(CONNECT_DATA=(SERVICE_NAME=orcl)))>>"
      ]
     },
     "execution_count": 14,
     "metadata": {},
     "output_type": "execute_result"
    }
   ],
   "source": [
    "cur.execute(sql)"
   ]
  },
  {
   "cell_type": "code",
   "execution_count": 15,
   "id": "9729c657-cf32-4b45-8022-9783cce75940",
   "metadata": {},
   "outputs": [],
   "source": [
    "row = cur.fetchall()"
   ]
  },
  {
   "cell_type": "code",
   "execution_count": 16,
   "id": "dfa8800d-ef7e-495b-8a27-1a6ffbdcd11b",
   "metadata": {},
   "outputs": [
    {
     "data": {
      "text/plain": [
       "('2',)"
      ]
     },
     "execution_count": 16,
     "metadata": {},
     "output_type": "execute_result"
    }
   ],
   "source": [
    "row[0]"
   ]
  },
  {
   "cell_type": "code",
   "execution_count": 17,
   "id": "2cffc76f-5078-4ad7-9a3a-0692c000a157",
   "metadata": {},
   "outputs": [
    {
     "data": {
      "text/plain": [
       "[('Q1', <cx_Oracle.DbType DB_TYPE_VARCHAR>, 20, 20, None, None, 0)]"
      ]
     },
     "execution_count": 17,
     "metadata": {},
     "output_type": "execute_result"
    }
   ],
   "source": [
    "colname = cur.description\n",
    "colname"
   ]
  },
  {
   "cell_type": "code",
   "execution_count": 18,
   "id": "50ff29e7-47ea-4859-83ff-9a14ec4c9b60",
   "metadata": {},
   "outputs": [],
   "source": [
    "cur.close()\n",
    "conn.close()"
   ]
  },
  {
   "cell_type": "code",
   "execution_count": 19,
   "id": "071387f8-c3bb-442c-86b4-38264a90286b",
   "metadata": {},
   "outputs": [
    {
     "data": {
      "text/plain": [
       "[('Q1', <cx_Oracle.DbType DB_TYPE_VARCHAR>, 20, 20, None, None, 0)]"
      ]
     },
     "execution_count": 19,
     "metadata": {},
     "output_type": "execute_result"
    }
   ],
   "source": [
    "colname"
   ]
  },
  {
   "cell_type": "code",
   "execution_count": 20,
   "id": "a67efabc-4183-4409-9c27-d6068b56598c",
   "metadata": {},
   "outputs": [
    {
     "data": {
      "text/plain": [
       "['Q1']"
      ]
     },
     "execution_count": 20,
     "metadata": {},
     "output_type": "execute_result"
    }
   ],
   "source": [
    "# 컬럼 뽑아오기\n",
    "col = []\n",
    "\n",
    "for i in range(len(colname)):\n",
    "    col.append(colname[i][0])\n",
    "    \n",
    "col"
   ]
  },
  {
   "cell_type": "code",
   "execution_count": 21,
   "id": "11ed0516-8e02-477c-a560-cba058a8e0dd",
   "metadata": {},
   "outputs": [
    {
     "data": {
      "text/plain": [
       "[('2',)]"
      ]
     },
     "execution_count": 21,
     "metadata": {},
     "output_type": "execute_result"
    }
   ],
   "source": [
    "row"
   ]
  },
  {
   "cell_type": "code",
   "execution_count": 23,
   "id": "f88d4e1a-045a-46c1-a2f2-d5155059940d",
   "metadata": {},
   "outputs": [],
   "source": [
    "df = pd.DataFrame(row,columns=col)"
   ]
  },
  {
   "cell_type": "code",
   "execution_count": 73,
   "id": "f7e51fc9-7402-4b1b-982f-aeb9f4fde8aa",
   "metadata": {},
   "outputs": [],
   "source": [
    "result = ['2','1','3','2','5','4','5','2','5','4','5']"
   ]
  },
  {
   "cell_type": "code",
   "execution_count": 74,
   "id": "b2f5ca6d-a1ec-4bc2-ad13-2d4809e293d2",
   "metadata": {},
   "outputs": [],
   "source": [
    "df = pd.DataFrame(result,columns=col)"
   ]
  },
  {
   "cell_type": "code",
   "execution_count": 75,
   "id": "3736dd4c-56af-46d8-b3f9-a378dd3c8243",
   "metadata": {},
   "outputs": [
    {
     "data": {
      "text/html": [
       "<div>\n",
       "<style scoped>\n",
       "    .dataframe tbody tr th:only-of-type {\n",
       "        vertical-align: middle;\n",
       "    }\n",
       "\n",
       "    .dataframe tbody tr th {\n",
       "        vertical-align: top;\n",
       "    }\n",
       "\n",
       "    .dataframe thead th {\n",
       "        text-align: right;\n",
       "    }\n",
       "</style>\n",
       "<table border=\"1\" class=\"dataframe\">\n",
       "  <thead>\n",
       "    <tr style=\"text-align: right;\">\n",
       "      <th></th>\n",
       "      <th>Q1</th>\n",
       "    </tr>\n",
       "  </thead>\n",
       "  <tbody>\n",
       "    <tr>\n",
       "      <th>0</th>\n",
       "      <td>2</td>\n",
       "    </tr>\n",
       "    <tr>\n",
       "      <th>1</th>\n",
       "      <td>1</td>\n",
       "    </tr>\n",
       "    <tr>\n",
       "      <th>2</th>\n",
       "      <td>3</td>\n",
       "    </tr>\n",
       "    <tr>\n",
       "      <th>3</th>\n",
       "      <td>2</td>\n",
       "    </tr>\n",
       "    <tr>\n",
       "      <th>4</th>\n",
       "      <td>5</td>\n",
       "    </tr>\n",
       "    <tr>\n",
       "      <th>5</th>\n",
       "      <td>4</td>\n",
       "    </tr>\n",
       "    <tr>\n",
       "      <th>6</th>\n",
       "      <td>5</td>\n",
       "    </tr>\n",
       "    <tr>\n",
       "      <th>7</th>\n",
       "      <td>2</td>\n",
       "    </tr>\n",
       "    <tr>\n",
       "      <th>8</th>\n",
       "      <td>5</td>\n",
       "    </tr>\n",
       "    <tr>\n",
       "      <th>9</th>\n",
       "      <td>4</td>\n",
       "    </tr>\n",
       "    <tr>\n",
       "      <th>10</th>\n",
       "      <td>5</td>\n",
       "    </tr>\n",
       "  </tbody>\n",
       "</table>\n",
       "</div>"
      ],
      "text/plain": [
       "   Q1\n",
       "0   2\n",
       "1   1\n",
       "2   3\n",
       "3   2\n",
       "4   5\n",
       "5   4\n",
       "6   5\n",
       "7   2\n",
       "8   5\n",
       "9   4\n",
       "10  5"
      ]
     },
     "execution_count": 75,
     "metadata": {},
     "output_type": "execute_result"
    }
   ],
   "source": [
    "df"
   ]
  },
  {
   "cell_type": "code",
   "execution_count": 76,
   "id": "b0b03d04-d2e2-4ee4-a9e6-d7f156563734",
   "metadata": {},
   "outputs": [],
   "source": [
    "df = df.astype(int)"
   ]
  },
  {
   "cell_type": "code",
   "execution_count": 77,
   "id": "4b03301c-e810-4151-bfac-756b5f5043dc",
   "metadata": {},
   "outputs": [
    {
     "data": {
      "text/html": [
       "<div>\n",
       "<style scoped>\n",
       "    .dataframe tbody tr th:only-of-type {\n",
       "        vertical-align: middle;\n",
       "    }\n",
       "\n",
       "    .dataframe tbody tr th {\n",
       "        vertical-align: top;\n",
       "    }\n",
       "\n",
       "    .dataframe thead th {\n",
       "        text-align: right;\n",
       "    }\n",
       "</style>\n",
       "<table border=\"1\" class=\"dataframe\">\n",
       "  <thead>\n",
       "    <tr style=\"text-align: right;\">\n",
       "      <th></th>\n",
       "      <th>Q1</th>\n",
       "    </tr>\n",
       "  </thead>\n",
       "  <tbody>\n",
       "    <tr>\n",
       "      <th>0</th>\n",
       "      <td>2</td>\n",
       "    </tr>\n",
       "    <tr>\n",
       "      <th>1</th>\n",
       "      <td>1</td>\n",
       "    </tr>\n",
       "    <tr>\n",
       "      <th>2</th>\n",
       "      <td>3</td>\n",
       "    </tr>\n",
       "    <tr>\n",
       "      <th>3</th>\n",
       "      <td>2</td>\n",
       "    </tr>\n",
       "    <tr>\n",
       "      <th>4</th>\n",
       "      <td>5</td>\n",
       "    </tr>\n",
       "    <tr>\n",
       "      <th>5</th>\n",
       "      <td>4</td>\n",
       "    </tr>\n",
       "    <tr>\n",
       "      <th>6</th>\n",
       "      <td>5</td>\n",
       "    </tr>\n",
       "    <tr>\n",
       "      <th>7</th>\n",
       "      <td>2</td>\n",
       "    </tr>\n",
       "    <tr>\n",
       "      <th>8</th>\n",
       "      <td>5</td>\n",
       "    </tr>\n",
       "    <tr>\n",
       "      <th>9</th>\n",
       "      <td>4</td>\n",
       "    </tr>\n",
       "    <tr>\n",
       "      <th>10</th>\n",
       "      <td>5</td>\n",
       "    </tr>\n",
       "  </tbody>\n",
       "</table>\n",
       "</div>"
      ],
      "text/plain": [
       "    Q1\n",
       "0    2\n",
       "1    1\n",
       "2    3\n",
       "3    2\n",
       "4    5\n",
       "5    4\n",
       "6    5\n",
       "7    2\n",
       "8    5\n",
       "9    4\n",
       "10   5"
      ]
     },
     "execution_count": 77,
     "metadata": {},
     "output_type": "execute_result"
    }
   ],
   "source": [
    "df"
   ]
  },
  {
   "cell_type": "code",
   "execution_count": 78,
   "id": "25ad1712-4ec1-4aa6-928b-7f3e94c4cbd6",
   "metadata": {},
   "outputs": [],
   "source": [
    "final = pd.DataFrame(columns=['만족','불만족','보통'])"
   ]
  },
  {
   "cell_type": "code",
   "execution_count": 79,
   "id": "b01b2a4c-6698-404f-88b9-70433cfebdd7",
   "metadata": {},
   "outputs": [],
   "source": [
    "final['불만족'] = [len(df[df['Q1']<=2])]\n",
    "final['만족'] = [len(df[df['Q1']>=4])]\n",
    "final['보통'] = [len(df[df['Q1']==3])]"
   ]
  },
  {
   "cell_type": "code",
   "execution_count": 80,
   "id": "96998224-f3ed-4a92-b30e-2ab53a942830",
   "metadata": {},
   "outputs": [],
   "source": [
    "final = final.T.reset_index()"
   ]
  },
  {
   "cell_type": "code",
   "execution_count": 81,
   "id": "baf0a65e-7217-4975-82e9-b4a4948930b2",
   "metadata": {},
   "outputs": [
    {
     "data": {
      "text/html": [
       "<div>\n",
       "<style scoped>\n",
       "    .dataframe tbody tr th:only-of-type {\n",
       "        vertical-align: middle;\n",
       "    }\n",
       "\n",
       "    .dataframe tbody tr th {\n",
       "        vertical-align: top;\n",
       "    }\n",
       "\n",
       "    .dataframe thead th {\n",
       "        text-align: right;\n",
       "    }\n",
       "</style>\n",
       "<table border=\"1\" class=\"dataframe\">\n",
       "  <thead>\n",
       "    <tr style=\"text-align: right;\">\n",
       "      <th></th>\n",
       "      <th>index</th>\n",
       "      <th>0</th>\n",
       "    </tr>\n",
       "  </thead>\n",
       "  <tbody>\n",
       "    <tr>\n",
       "      <th>0</th>\n",
       "      <td>만족</td>\n",
       "      <td>6</td>\n",
       "    </tr>\n",
       "    <tr>\n",
       "      <th>1</th>\n",
       "      <td>불만족</td>\n",
       "      <td>4</td>\n",
       "    </tr>\n",
       "    <tr>\n",
       "      <th>2</th>\n",
       "      <td>보통</td>\n",
       "      <td>1</td>\n",
       "    </tr>\n",
       "  </tbody>\n",
       "</table>\n",
       "</div>"
      ],
      "text/plain": [
       "  index  0\n",
       "0    만족  6\n",
       "1   불만족  4\n",
       "2    보통  1"
      ]
     },
     "execution_count": 81,
     "metadata": {},
     "output_type": "execute_result"
    }
   ],
   "source": [
    "final"
   ]
  },
  {
   "cell_type": "code",
   "execution_count": 82,
   "id": "c62c1adc-ab48-4868-84b8-5da67c4825f1",
   "metadata": {},
   "outputs": [
    {
     "data": {
      "text/plain": [
       "array([ 0,  5, 10, 15, 20, 25])"
      ]
     },
     "execution_count": 82,
     "metadata": {},
     "output_type": "execute_result"
    }
   ],
   "source": [
    "xlist = np.arange(0,(final[0].max() + 20),5)\n",
    "\n",
    "xlist"
   ]
  },
  {
   "cell_type": "code",
   "execution_count": 93,
   "id": "d9294602-da0c-4043-8bbe-e397d4693450",
   "metadata": {},
   "outputs": [
    {
     "data": {
      "image/png": "[encoded data removed]",
      "text/plain": [
       "<Figure size 2000x1000 with 1 Axes>"
      ]
     },
     "metadata": {},
     "output_type": "display_data"
    }
   ],
   "source": [
    "fig = plt.figure(figsize=(20,10))\n",
    "\n",
    "ylist = np.arange(0,(final[0].max() + 5),5)\n",
    "\n",
    "plt.title('최저임금에 대한 고용주 만족도',fontsize = 20,loc='center', pad=30, fontweight=\"bold\")\n",
    "\n",
    "fig.set_facecolor('#EEEEEE')\n",
    "plt.gca().set_facecolor('#EEEEEE')\n",
    "plt.rc('font', family = 'Malgun Gothic', size = 18)\n",
    "\n",
    "plt.bar(final['index'],final[0],width=0.5, color =['navy','darkred','#F2B117'])\n",
    "\n",
    "plt.yticks(ylist)\n",
    "\n",
    "for i, v in enumerate(final['index']):\n",
    "    plt.text(v, final[0][i], final[0][i],\n",
    "             fontsize = 18,\n",
    "             color='black',\n",
    "             horizontalalignment='center',  # horizontalalignment (left, center, right)\n",
    "             verticalalignment='bottom')    # verticalalignment (top, center, bottom)\n",
    "\n",
    "\n",
    "plt.show()"
   ]
  }
 ],
 "metadata": {
  "kernelspec": {
   "display_name": "survey",
   "language": "python",
   "name": "survey"
  },
  "language_info": {
   "codemirror_mode": {
    "name": "ipython",
    "version": 3
   },
   "file_extension": ".py",
   "mimetype": "text/x-python",
   "name": "python",
   "nbconvert_exporter": "python",
   "pygments_lexer": "ipython3",
   "version": "3.9.12"
  }
 },
 "nbformat": 4,
 "nbformat_minor": 5
}
